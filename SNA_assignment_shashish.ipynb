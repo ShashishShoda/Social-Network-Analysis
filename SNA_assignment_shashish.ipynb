{
 "cells": [
  {
   "cell_type": "markdown",
   "id": "9d865ec1",
   "metadata": {},
   "source": [
    "# Social Network Analysis \n",
    "\n",
    "### M2021ANLT032\tShashish Shoda\n",
    "\n"
   ]
  },
  {
   "cell_type": "markdown",
   "id": "9a8d9e3e",
   "metadata": {},
   "source": [
    "## Problem statement: Analysis of connection network between \"Class of TISS-SNA-2022\"  before and after group formation."
   ]
  },
  {
   "cell_type": "markdown",
   "id": "f339e7ab",
   "metadata": {},
   "source": [
    "## Note: Students will have connection if they belong to same department or same assignment group, this is how we have  defined connection."
   ]
  },
  {
   "cell_type": "code",
   "execution_count": 1,
   "id": "5edb5554",
   "metadata": {},
   "outputs": [],
   "source": [
    "import networkx as nx"
   ]
  },
  {
   "cell_type": "code",
   "execution_count": 2,
   "id": "b8918037",
   "metadata": {},
   "outputs": [],
   "source": [
    "import pandas as pd"
   ]
  },
  {
   "cell_type": "code",
   "execution_count": 3,
   "id": "e3ebff94",
   "metadata": {},
   "outputs": [],
   "source": [
    "import matplotlib.pyplot as plt"
   ]
  },
  {
   "cell_type": "markdown",
   "id": "91fd2423",
   "metadata": {},
   "source": [
    "## Case 1"
   ]
  },
  {
   "cell_type": "code",
   "execution_count": 4,
   "id": "0a682e29",
   "metadata": {},
   "outputs": [],
   "source": [
    "sna_class_before=pd.read_csv(r\"C:\\Users\\shash\\Documents\\Tiss Analytics Subjects\\Sem 2\\Social Network Analysis and Organisation\\Excel files\\ClassSNA2022_before_python.csv\",index_col=0)"
   ]
  },
  {
   "cell_type": "code",
   "execution_count": 5,
   "id": "0625461f",
   "metadata": {},
   "outputs": [],
   "source": [
    "sna_class_before_graph=nx.Graph(sna_class_before)"
   ]
  },
  {
   "cell_type": "code",
   "execution_count": 6,
   "id": "389bc0a5",
   "metadata": {},
   "outputs": [],
   "source": [
    "degrees = [sna_class_before_graph.degree(n) for n in sna_class_before_graph.nodes()]"
   ]
  },
  {
   "cell_type": "code",
   "execution_count": 7,
   "id": "6fc63195",
   "metadata": {},
   "outputs": [
    {
     "data": {
      "image/png": "[encoded data removed]",
      "text/plain": [
       "<Figure size 432x288 with 1 Axes>"
      ]
     },
     "metadata": {
      "needs_background": "light"
     },
     "output_type": "display_data"
    }
   ],
   "source": [
    "plt.hist(degrees,bins=range(min(degrees), max(degrees) + 1, 1))\n",
    "plt.title('Degree distribution before group formation')\n",
    "plt.xlabel('Degree')\n",
    "plt.ylabel('Frequency')\n",
    "plt.show()\n"
   ]
  },
  {
   "cell_type": "code",
   "execution_count": 8,
   "id": "e03e915e",
   "metadata": {},
   "outputs": [
    {
     "data": {
      "text/plain": [
       "0.09234972677595628"
      ]
     },
     "execution_count": 8,
     "metadata": {},
     "output_type": "execute_result"
    }
   ],
   "source": [
    "nx.density(sna_class_before_graph)"
   ]
  },
  {
   "cell_type": "code",
   "execution_count": 9,
   "id": "fb121967",
   "metadata": {},
   "outputs": [],
   "source": [
    "from pyvis.network import Network "
   ]
  },
  {
   "cell_type": "code",
   "execution_count": 10,
   "id": "0e2e08bc",
   "metadata": {},
   "outputs": [],
   "source": [
    "net=Network(notebook=False, height=\"750px\", width=\"1750px\" )"
   ]
  },
  {
   "cell_type": "code",
   "execution_count": 11,
   "id": "3a2c1d33",
   "metadata": {},
   "outputs": [],
   "source": [
    "net.from_nx(sna_class_before_graph)"
   ]
  },
  {
   "cell_type": "code",
   "execution_count": 12,
   "id": "54d386cf",
   "metadata": {},
   "outputs": [],
   "source": [
    "net.show(\"example.html\" )"
   ]
  },
  {
   "cell_type": "markdown",
   "id": "3301ffe3",
   "metadata": {},
   "source": [
    "## Case 2"
   ]
  },
  {
   "cell_type": "code",
   "execution_count": 13,
   "id": "88988c59",
   "metadata": {},
   "outputs": [],
   "source": [
    "sna_class_after=pd.read_csv(r\"C:\\Users\\shash\\Documents\\Tiss Analytics Subjects\\Sem 2\\Social Network Analysis and Organisation\\Excel files\\ClassSNA2022_after_python.csv\",index_col=0)"
   ]
  },
  {
   "cell_type": "code",
   "execution_count": 14,
   "id": "2aa2e4b3",
   "metadata": {},
   "outputs": [],
   "source": [
    "sna_class_after_graph=nx.Graph(sna_class_after)"
   ]
  },
  {
   "cell_type": "code",
   "execution_count": 15,
   "id": "af8299cb",
   "metadata": {},
   "outputs": [],
   "source": [
    "degrees1 = [sna_class_after_graph.degree(n) for n in sna_class_after_graph.nodes()]"
   ]
  },
  {
   "cell_type": "code",
   "execution_count": 16,
   "id": "ba1dca0f",
   "metadata": {},
   "outputs": [
    {
     "data": {
      "image/png": "[encoded data removed]",
      "text/plain": [
       "<Figure size 432x288 with 1 Axes>"
      ]
     },
     "metadata": {
      "needs_background": "light"
     },
     "output_type": "display_data"
    }
   ],
   "source": [
    "plt.hist(degrees1,bins=range(min(degrees1), max(degrees1) + 1, 1))\n",
    "plt.title('Degree distribution after group formation')\n",
    "plt.xlabel('Degree')\n",
    "plt.ylabel('Frequency')\n",
    "plt.show()\n"
   ]
  },
  {
   "cell_type": "code",
   "execution_count": 17,
   "id": "20b65e11",
   "metadata": {},
   "outputs": [
    {
     "data": {
      "text/plain": [
       "0.1551912568306011"
      ]
     },
     "execution_count": 17,
     "metadata": {},
     "output_type": "execute_result"
    }
   ],
   "source": [
    "nx.density(sna_class_after_graph)"
   ]
  },
  {
   "cell_type": "code",
   "execution_count": 18,
   "id": "139d6865",
   "metadata": {},
   "outputs": [],
   "source": [
    "net1=Network(notebook=False, height=\"750px\", width=\"1750px\" )"
   ]
  },
  {
   "cell_type": "code",
   "execution_count": 19,
   "id": "7b02087f",
   "metadata": {},
   "outputs": [],
   "source": [
    "net1.from_nx(sna_class_after_graph)"
   ]
  },
  {
   "cell_type": "code",
   "execution_count": 20,
   "id": "a8edbb5f",
   "metadata": {},
   "outputs": [],
   "source": [
    "net1.show(\"example1.html\" )"
   ]
  },
  {
   "cell_type": "code",
   "execution_count": null,
   "id": "a70f540c",
   "metadata": {},
   "outputs": [],
   "source": []
  },
  {
   "cell_type": "code",
   "execution_count": null,
   "id": "4ef4b1c1",
   "metadata": {},
   "outputs": [],
   "source": []
  },
  {
   "cell_type": "code",
   "execution_count": null,
   "id": "401182fa",
   "metadata": {},
   "outputs": [],
   "source": []
  },
  {
   "cell_type": "code",
   "execution_count": null,
   "id": "e90daabf",
   "metadata": {},
   "outputs": [],
   "source": []
  }
 ],
 "metadata": {
  "kernelspec": {
   "display_name": "Python 3 (ipykernel)",
   "language": "python",
   "name": "python3"
  },
  "language_info": {
   "codemirror_mode": {
    "name": "ipython",
    "version": 3
   },
   "file_extension": ".py",
   "mimetype": "text/x-python",
   "name": "python",
   "nbconvert_exporter": "python",
   "pygments_lexer": "ipython3",
   "version": "3.9.7"
  }
 },
 "nbformat": 4,
 "nbformat_minor": 5
}
